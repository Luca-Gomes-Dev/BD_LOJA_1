{
  "nbformat": 4,
  "nbformat_minor": 0,
  "metadata": {
    "colab": {
      "provenance": [],
      "toc_visible": true,
      "authorship_tag": "ABX9TyPYD08jRYNfhGUvz0IZL8US",
      "include_colab_link": true
    },
    "kernelspec": {
      "name": "python3",
      "display_name": "Python 3"
    },
    "language_info": {
      "name": "python"
    }
  },
  "cells": [
    {
      "cell_type": "markdown",
      "metadata": {
        "id": "view-in-github",
        "colab_type": "text"
      },
      "source": [
        "<a href=\"https://colab.research.google.com/github/Luca-Gomes-Dev/BD_LOJA_1/blob/main/Coleta_de_dados_do_camponato_brasileiro_serie_B_2020_a_2022.ipynb\" target=\"_parent\"><img src=\"https://colab.research.google.com/assets/colab-badge.svg\" alt=\"Open In Colab\"/></a>"
      ]
    },
    {
      "cell_type": "markdown",
      "source": [
        "# Extrair as classificações dos campeonatos brasileiros de futebol de 2020 até 2022 da Série B"
      ],
      "metadata": {
        "id": "PvMdexfZNG0e"
      }
    },
    {
      "cell_type": "markdown",
      "source": [
        "Brasileirão 2020"
      ],
      "metadata": {
        "id": "IvN5pfWDUcNS"
      }
    },
    {
      "cell_type": "code",
      "source": [
        "import requests\n",
        "from bs4 import BeautifulSoup\n",
        "import pandas as pd\n",
        "\n",
        "url = 'https://pt.wikipedia.org/wiki/Campeonato_Brasileiro_de_Futebol_de_2020_-_S%C3%A9rie_B'\n",
        "response = requests.get(url)\n",
        "soup = BeautifulSoup(response.content, 'html.parser')\n",
        "\n",
        "table = soup.find_all('table')[5]\n",
        "rows = table.find_all('tr')[1:5]\n",
        "\n",
        "for row in rows:\n",
        "    cols = row.find_all('td')\n",
        "    position = cols[0].get_text().strip()\n",
        "    team = cols[1].get_text().strip()\n",
        "    points = cols[2].get_text().strip()\n",
        "    print(f'{position}. {team} ({points} pontos)')\n"
      ],
      "metadata": {
        "colab": {
          "base_uri": "https://localhost:8080/"
        },
        "id": "A5X5nUiYN2CW",
        "outputId": "24a8d299-b2a1-488a-8b61-d23a198010c3"
      },
      "execution_count": 47,
      "outputs": [
        {
          "output_type": "stream",
          "name": "stdout",
          "text": [
            "Chapecoense (C, P). 73 (38 pontos)\n",
            "América Mineiro (P). 73 (38 pontos)\n",
            "Juventude (P). 61 (38 pontos)\n",
            "Cuiabá (P). 61 (38 pontos)\n"
          ]
        }
      ]
    },
    {
      "cell_type": "markdown",
      "source": [
        "Brasileirão 2021"
      ],
      "metadata": {
        "id": "RbmPBLNoUlAD"
      }
    },
    {
      "cell_type": "code",
      "source": [
        "import requests\n",
        "from bs4 import BeautifulSoup\n",
        "\n",
        "url = 'https://pt.wikipedia.org/wiki/Campeonato_Brasileiro_de_Futebol_de_2021_-_S%C3%A9rie_B'\n",
        "response = requests.get(url)\n",
        "soup = BeautifulSoup(response.content, 'html.parser')\n",
        "\n",
        "table = soup.find_all('table')[6]\n",
        "rows = table.find_all('tr')[1:5]\n",
        "\n",
        "for row in rows:\n",
        "    cols = row.find_all('td')\n",
        "    position = cols[0].get_text().strip()\n",
        "    team = cols[1].get_text().strip()\n",
        "    points = cols[2].get_text().strip()\n",
        "    print(f'{position}. {team} ({points} pontos)')\n",
        ""
      ],
      "metadata": {
        "colab": {
          "base_uri": "https://localhost:8080/"
        },
        "id": "lUOZxmD0PPTt",
        "outputId": "0c8fd131-d3ce-4114-f71d-edcda2e938d1"
      },
      "execution_count": 28,
      "outputs": [
        {
          "output_type": "stream",
          "name": "stdout",
          "text": [
            "1. Botafogo (70 pontos)\n",
            "2. Goiás (65 pontos)\n",
            "3. Coritiba (64 pontos)\n",
            "4. Avaí (64 pontos)\n"
          ]
        }
      ]
    },
    {
      "cell_type": "markdown",
      "source": [
        "Brasileirão 2022"
      ],
      "metadata": {
        "id": "ieaosWnFUpmy"
      }
    },
    {
      "cell_type": "code",
      "source": [
        "import requests\n",
        "from bs4 import BeautifulSoup\n",
        "\n",
        "url = 'https://pt.wikipedia.org/wiki/Campeonato_Brasileiro_de_Futebol_de_2022_-_S%C3%A9rie_B'\n",
        "response = requests.get(url)\n",
        "soup = BeautifulSoup(response.content, 'html.parser')\n",
        "\n",
        "table = soup.find_all('table')[5]\n",
        "rows = table.find_all('tr')[1:5]\n",
        "\n",
        "for row in rows:\n",
        "    cols = row.find_all('td')\n",
        "    position = cols[0].get_text().strip()\n",
        "    team = cols[1].get_text().strip()\n",
        "    points = cols[2].get_text().strip()\n",
        "    print(f'{position}. {team} ({points} pontos)')\n"
      ],
      "metadata": {
        "colab": {
          "base_uri": "https://localhost:8080/"
        },
        "id": "ND7zKFrNLZqf",
        "outputId": "1d4e4053-cf79-4637-fecb-86d1628302b9"
      },
      "execution_count": 49,
      "outputs": [
        {
          "output_type": "stream",
          "name": "stdout",
          "text": [
            "Cruzeiro (C). 78 (38 pontos)\n",
            "Grêmio. 65 (38 pontos)\n",
            "Bahia. 62 (38 pontos)\n",
            "Vasco da Gama. 62 (38 pontos)\n"
          ]
        }
      ]
    }
  ]
}